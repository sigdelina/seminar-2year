{
 "cells": [
  {
   "cell_type": "code",
   "execution_count": 39,
   "metadata": {},
   "outputs": [
    {
     "name": "stdout",
     "output_type": "stream",
     "text": [
      "<sqlite3.Connection object at 0x1118d3650>\n"
     ]
    }
   ],
   "source": [
    "import sqlite3\n",
    "\n",
    "con = sqlite3.connect(\"example.db.sqlite\")\n",
    "cur = con.cursor()\n",
    "cur.execute(\"CREATE TABLE IF NOT EXISTS sounds(dictor text, sex text, village text, sound text, f1 real, f2 real)\")\n",
    "#        .format(tn=table_name1, nf=new_field, ft=field_type))\n",
    "with open(\"nanai-vowels.csv\", 'r', encoding=\"utf-8\") as file:\n",
    "    lines = file.readlines()\n",
    "    for elem in lines[1:]:\n",
    "        #print(lines)\n",
    "        for el in elem:\n",
    "            el = elem.split(\";\")\n",
    "        #    print(el)\n",
    "            cur.execute(\"INSERT INTO sounds VALUES (?, ?, ?, ?, ?, ?)\", (el[0], el[1], el[2], el[3], el[4], el[5].replace('\\n', '')))\n",
    "    \n",
    "con.commit()\n",
    "con.close()\n",
    "print(con)"
   ]
  },
  {
   "cell_type": "code",
   "execution_count": null,
   "metadata": {},
   "outputs": [],
   "source": []
  }
 ],
 "metadata": {
  "kernelspec": {
   "display_name": "Python 3",
   "language": "python",
   "name": "python3"
  },
  "language_info": {
   "codemirror_mode": {
    "name": "ipython",
    "version": 3
   },
   "file_extension": ".py",
   "mimetype": "text/x-python",
   "name": "python",
   "nbconvert_exporter": "python",
   "pygments_lexer": "ipython3",
   "version": "3.6.5"
  }
 },
 "nbformat": 4,
 "nbformat_minor": 2
}
